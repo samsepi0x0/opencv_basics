{
  "nbformat": 4,
  "nbformat_minor": 0,
  "metadata": {
    "colab": {
      "name": "Untitled12.ipynb",
      "private_outputs": true,
      "provenance": [],
      "authorship_tag": "ABX9TyP9Voli5cPq6RPsRA4k/dVt",
      "include_colab_link": true
    },
    "kernelspec": {
      "name": "python3",
      "display_name": "Python 3"
    },
    "language_info": {
      "name": "python"
    }
  },
  "cells": [
    {
      "cell_type": "markdown",
      "metadata": {
        "id": "view-in-github",
        "colab_type": "text"
      },
      "source": [
        "<a href=\"https://colab.research.google.com/github/samsepi0x0/opencv_basics/blob/main/Face_Detection.ipynb\" target=\"_parent\"><img src=\"https://colab.research.google.com/assets/colab-badge.svg\" alt=\"Open In Colab\"/></a>"
      ]
    },
    {
      "cell_type": "markdown",
      "metadata": {
        "id": "8JCSqNSuH4Wc"
      },
      "source": [
        "FACE DETECTION"
      ]
    },
    {
      "cell_type": "code",
      "metadata": {
        "id": "PtOTzVEqHeaS"
      },
      "source": [
        "!wget https://raw.githubusercontent.com/misbah4064/opencvTutorial/main/files/haarcascade_frontalface_default.xml"
      ],
      "execution_count": null,
      "outputs": []
    },
    {
      "cell_type": "code",
      "metadata": {
        "id": "9KngwTwZHtlM"
      },
      "source": [
        "import cv2\n",
        "from google.colab.patches import cv2_imshow\n",
        "\n",
        "face_cascade = cv2.CascadeClassifier(cv2.data.haarcascades + 'haarcascade_frontalface_default.xml')"
      ],
      "execution_count": null,
      "outputs": []
    },
    {
      "cell_type": "code",
      "metadata": {
        "id": "AmWBRqwRIBp4"
      },
      "source": [
        "!wget https://raw.githubusercontent.com/misbah4064/opencvTutorial/main/images/person.jpg"
      ],
      "execution_count": null,
      "outputs": []
    },
    {
      "cell_type": "code",
      "metadata": {
        "id": "QfqYawBXLzvc"
      },
      "source": [
        "!wget https://raw.githubusercontent.com/misbah4064/opencvTutorial/main/images/group.jpg"
      ],
      "execution_count": null,
      "outputs": []
    },
    {
      "cell_type": "code",
      "metadata": {
        "id": "qspKQch0I7RA"
      },
      "source": [
        "# cascade classifier is used for only grayscale images nothing more nothing less\n",
        "img = cv2.imread(\"person.jpg\")\n",
        "img2 = cv2.imread(\"group.jpg\")\n",
        "gray = cv2.cvtColor(img2, cv2.COLOR_BGR2GRAY)\n",
        "\n",
        "face = face_cascade.detectMultiScale(gray, 1.3, 5)\n",
        "\n",
        "for (x, y, w, h) in face:\n",
        "    cv2.rectangle(img2, (x, y), (x+w, y+h), (0, 0, 255), 3)\n",
        "\n",
        "cv2_imshow(img2)"
      ],
      "execution_count": null,
      "outputs": []
    },
    {
      "cell_type": "code",
      "metadata": {
        "id": "dXjuMywMJMUr"
      },
      "source": [
        ""
      ],
      "execution_count": null,
      "outputs": []
    }
  ]
}