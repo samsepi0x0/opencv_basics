{
  "nbformat": 4,
  "nbformat_minor": 0,
  "metadata": {
    "colab": {
      "name": "Untitled11.ipynb",
      "private_outputs": true,
      "provenance": [],
      "authorship_tag": "ABX9TyNaYdsFLnPjbBKVqs9Q68GK",
      "include_colab_link": true
    },
    "kernelspec": {
      "name": "python3",
      "display_name": "Python 3"
    },
    "language_info": {
      "name": "python"
    }
  },
  "cells": [
    {
      "cell_type": "markdown",
      "metadata": {
        "id": "view-in-github",
        "colab_type": "text"
      },
      "source": [
        "<a href=\"https://colab.research.google.com/github/samsepi0x0/opencv_basics/blob/main/Color_Detection.ipynb\" target=\"_parent\"><img src=\"https://colab.research.google.com/assets/colab-badge.svg\" alt=\"Open In Colab\"/></a>"
      ]
    },
    {
      "cell_type": "markdown",
      "metadata": {
        "id": "sgWsCROLAtN8"
      },
      "source": [
        "## COLOR DETECTION"
      ]
    },
    {
      "cell_type": "code",
      "metadata": {
        "id": "7FAFvo8y8v9e"
      },
      "source": [
        "import cv2\n",
        "import numpy as np\n",
        "from google.colab.patches import cv2_imshow"
      ],
      "execution_count": null,
      "outputs": []
    },
    {
      "cell_type": "code",
      "metadata": {
        "id": "p66MkIcEArIL"
      },
      "source": [
        "!wget https://raw.githubusercontent.com/misbah4064/opencvTutorial/main/images/shapes.png\n",
        "!ls"
      ],
      "execution_count": null,
      "outputs": []
    },
    {
      "cell_type": "code",
      "metadata": {
        "id": "w7LJhv-bA8RN"
      },
      "source": [
        "img = cv2.imread('shapes.png')\n",
        "\n",
        "# BGR IMAGE CHANNELS\n",
        "hsv = cv2.cvtColor(img, cv2.COLOR_BGR2HSV)\n",
        "#hue represents color profile\n",
        "#hue b/w 65 to 110 for this example\n",
        "\n",
        "#BLUE COLOR\n",
        "lower_blue_color = np.array([65, 0, 0])\n",
        "upper_blue_color = np.array([110, 255, 255])\n",
        "\n",
        "#RED COLOR\n",
        "lower_red_color = np.array([0, 0, 0])\n",
        "upper_red_color = np.array([20, 255, 255])\n",
        "\n",
        "#GREEN COLOR\n",
        "lower_green_color = np.array([46, 0, 0])\n",
        "upper_green_color = np.array([91, 255, 255])\n",
        "\n",
        "#YELLOW COLOR\n",
        "lower_yellow_color = np.array([21, 0, 0])\n",
        "upper_yellow_color = np.array([45, 255, 255])\n",
        "#hue will extract that range in the limit and remove others\n",
        "\n",
        "mask = cv2.inRange(hsv, lower_yellow_color, upper_yellow_color)\n",
        "\n",
        "result = cv2.bitwise_and(img, img, mask=mask)\n",
        "\n",
        "disp = np.hstack((img, result))\n",
        "cv2_imshow(disp)"
      ],
      "execution_count": null,
      "outputs": []
    },
    {
      "cell_type": "code",
      "metadata": {
        "id": "fZYzIIEIBOr_"
      },
      "source": [
        " "
      ],
      "execution_count": null,
      "outputs": []
    }
  ]
}