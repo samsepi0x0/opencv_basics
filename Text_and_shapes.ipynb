{
  "nbformat": 4,
  "nbformat_minor": 0,
  "metadata": {
    "colab": {
      "name": "Untitled10.ipynb",
      "private_outputs": true,
      "provenance": [],
      "authorship_tag": "ABX9TyNdaPeALmsqpJ9rJZLu9kWZ",
      "include_colab_link": true
    },
    "kernelspec": {
      "name": "python3",
      "display_name": "Python 3"
    },
    "language_info": {
      "name": "python"
    }
  },
  "cells": [
    {
      "cell_type": "markdown",
      "metadata": {
        "id": "view-in-github",
        "colab_type": "text"
      },
      "source": [
        "<a href=\"https://colab.research.google.com/github/samsepi0x0/opencv_basics/blob/main/Text_and_shapes.ipynb\" target=\"_parent\"><img src=\"https://colab.research.google.com/assets/colab-badge.svg\" alt=\"Open In Colab\"/></a>"
      ]
    },
    {
      "cell_type": "markdown",
      "metadata": {
        "id": "YrOvI-d05Jj1"
      },
      "source": [
        "Editing Images and Dwawing Shapes\n"
      ]
    },
    {
      "cell_type": "code",
      "metadata": {
        "id": "GHkoeu8p45TR"
      },
      "source": [
        "import cv2\n",
        "import numpy as np\n",
        "from google.colab.patches import cv2_imshow"
      ],
      "execution_count": null,
      "outputs": []
    },
    {
      "cell_type": "code",
      "metadata": {
        "id": "fjjDOQAZ5HPR"
      },
      "source": [
        "img = np.zeros((512, 512, 3), np.uint8) # three channels black canvas \n",
        "# unit8 : range 0 to 255 \n",
        "cv2_imshow(img)"
      ],
      "execution_count": null,
      "outputs": []
    },
    {
      "cell_type": "code",
      "metadata": {
        "id": "BnuUDjeP5sXV"
      },
      "source": [
        "#DRAWING FUNCTIONS\n",
        "\n",
        "# CIRCLES:\n",
        "cv2.circle(img, (100, 100), 50, (150, 150, 0), 5)\n",
        "\n",
        "#RECTANGLE:\n",
        "cv2.rectangle(img, (250, 250), (350, 350), (0, 255, 255), 7)\n",
        "\n",
        "#LINE:\n",
        "cv2.line(img, (300, 300), (500, 480), (255, 0, 0), 4)\n",
        "\n",
        "#TEXT ON IMAGE:\n",
        "cv2.putText(img, \"Hello WOrld\", (181, 200), cv2.FONT_HERSHEY_PLAIN, 3, (0, 0, 255), 2)\n",
        "\n",
        "#DISPLAY THE IMAGES\n",
        "cv2_imshow(img)"
      ],
      "execution_count": null,
      "outputs": []
    },
    {
      "cell_type": "code",
      "metadata": {
        "id": "VSzV7SuL6RN9"
      },
      "source": [
        ""
      ],
      "execution_count": null,
      "outputs": []
    }
  ]
}