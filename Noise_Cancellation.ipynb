{
  "nbformat": 4,
  "nbformat_minor": 0,
  "metadata": {
    "colab": {
      "name": "Untitled9.ipynb",
      "private_outputs": true,
      "provenance": [],
      "authorship_tag": "ABX9TyNOYWvsvm/iv6yQUOkHj79/",
      "include_colab_link": true
    },
    "kernelspec": {
      "name": "python3",
      "display_name": "Python 3"
    },
    "language_info": {
      "name": "python"
    }
  },
  "cells": [
    {
      "cell_type": "markdown",
      "metadata": {
        "id": "view-in-github",
        "colab_type": "text"
      },
      "source": [
        "<a href=\"https://colab.research.google.com/github/samsepi0x0/opencv_basics/blob/main/Noise_Cancellation.ipynb\" target=\"_parent\"><img src=\"https://colab.research.google.com/assets/colab-badge.svg\" alt=\"Open In Colab\"/></a>"
      ]
    },
    {
      "cell_type": "code",
      "metadata": {
        "id": "vNe7IkaQy1qg"
      },
      "source": [
        "!wget http://mojavy.com/images/rena.jpg\n",
        "!wget https://raw.githubusercontent.com/misbah4064/opencvTutorial/main/images/lion.jpg\n",
        "!ls"
      ],
      "execution_count": null,
      "outputs": []
    },
    {
      "cell_type": "code",
      "metadata": {
        "id": "8xRWjFhdy22K"
      },
      "source": [
        "import cv2\n",
        "from google.colab.patches import cv2_imshow\n",
        "import numpy as np"
      ],
      "execution_count": null,
      "outputs": []
    },
    {
      "cell_type": "code",
      "metadata": {
        "id": "RGRM49W9zG4t"
      },
      "source": [
        "img = cv2.imread('lion.jpg')\n",
        "cv2_imshow(img)"
      ],
      "execution_count": null,
      "outputs": []
    },
    {
      "cell_type": "code",
      "metadata": {
        "id": "WCDu-Dna179s"
      },
      "source": [
        "# denoising, takes mean of pixels and changes values to what's more important in that area.\n",
        "# first_number--> size of window\n",
        "dst = cv2.fastNlMeansDenoisingColored(img, None, 20, 20, 7, 15) # play with the thresholds\n",
        "\n",
        "disp = np.hstack((img, dst))\n",
        "cv2_imshow(disp)"
      ],
      "execution_count": null,
      "outputs": []
    },
    {
      "cell_type": "code",
      "metadata": {
        "id": "vv7NT01o3PAm"
      },
      "source": [
        "# great for foregound extraction and background removal"
      ],
      "execution_count": null,
      "outputs": []
    }
  ]
}